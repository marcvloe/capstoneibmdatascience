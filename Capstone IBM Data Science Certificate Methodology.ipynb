{
 "cells": [
  {
   "cell_type": "markdown",
   "metadata": {},
   "source": [
    "Objective or Mission:\n",
    "Our objective is to find an prediction model that based on the earlier recorded traffic accidents that would unable us to predict the severity of an accident and the possible delay resulting for the incident.\n",
    "Groups or publics which could be interested or benifit of such models:\n",
    "We various groups who could be intersted in usch model.\n",
    "Authorities:\n",
    "Having such model to their disposal they could check which circurmstances are cause of an increased risk of accident. Once these elements determined where ever possible dispostions could take to take control or to infleunce these circumstance in such way that they become less prone to cause accidents.\n",
    "This can be done by permanent restrictions or with panels which can be activated or on which the restriction messages can be diffulgated.\n",
    "To monitor and if needed sanctin the non respect of these restrictions.\n",
    "Autohroties cam also adapt the road in such way they take into consideration the factors. which influence roadaccidents.\n",
    "Car Manufacturers:\n",
    "The possibility to built into the cars of early warning systems to unnable the driver to adapt his driving style to the expereinced circumtstances on the road.\n",
    "The Insurance Companies:\n",
    "They can use the outcome of these models to lobby the leglislator in order to issue new laws to impose dispositions in order to contain the number and severity of the road accidents.\n",
    "Lobbying as such they would be able to lower the overall risk profile of their insurance portfolio and as such reducing the exposrue of the 'Names' which finance the subscription of the portfolio.\n",
    "The Consumers:\n",
    "The can benefit various way of such prediction models:\n",
    "The can early warnings to adapt the driving style this by messages on roadside boards, radio messages, text messages on mobile devices.\n",
    "Early warning throygh electronic devices wethether or not built into their cars.\n",
    "In conclusion:\n",
    "We all have consiberable advantages of such models, less accidents, less casyalties,lower emergency help budgets for the autorities, cheaper insucrance contracts seeing the overall lower risk profile, less time wasted in traffic jams due to rescue operations on road accidents."
   ]
  },
  {
   "cell_type": "markdown",
   "metadata": {},
   "source": [
    "We will use the data provided of the  road accidents in Seattle being Data-Collisons.csv.\n",
    "\n",
    "For numeric details consult the my Notebook which is also in a form of reporting with comments during the built up of the notebook.\n",
    "\n",
    "\n",
    "A first look at the target value being the severity of an accident we noticed that this has been reduced to two elements being 'prop damages' and 'injury'.\n",
    "\n",
    "A further look shows us we are dealing aswell with numiric as categorical attributes.\n",
    "\n",
    "We also immediately notice there is are issues of missing data.\n",
    "\n",
    "We eliminate empty rows with missing data in our DataFrame which as us reducing the dataframe by 96%.\n",
    "\n",
    "So before going to our ML models we will have to prepare our data set to be able to use it in our statiscal models which only accepts numerical attributes for calculation.\n",
    "\n",
    "We will assign to the unique attributes in the features, WEATHER, ROADCOND, LIGHTCOND, SPEEDING, JUNCTIONTYPE a numerical value, for missing data a policy of 'means' will be used to fill in.\n"
   ]
  },
  {
   "cell_type": "markdown",
   "metadata": {},
   "source": [
    "We will use a supervised method for our prediction ML models.\n",
    "\n",
    "Since our target value given has only two possible outcome which can be considered as being a binary target the most adequate methods are these models which give the best results for binary answer.\n",
    "\n",
    "In our case we will be using K-Neighbors, Decision Tree Model, Logistic Regression, Support Vector machine with two kernels being 'rbf' and 'Lineair'.\n",
    "\n",
    "For each of these models we will use a training and a test set to train our ML model.\n",
    "We split up our dataframe in 80% for the training set and 20% for the test set.\n",
    "\n",
    "For the K-Neighbors Model we will determine the k-value which gives the best fit and report on the performance on this value, which is 4 in our case.\n",
    "\n",
    "For each result of our ML models  we will set up an evaluation matrix with description of the F1-score methode evaluation.\n",
    "\n",
    "We will also add the Jacard-score and log-loss score evaluation method.\n",
    "\n"
   ]
  },
  {
   "cell_type": "markdown",
   "metadata": {},
   "source": [
    "Comments on the obtained results:\n",
    "\n",
    "\n",
    "Going through the results obtained with our various models , the conclsuion is anything but joyfull.\n",
    "\n",
    "If we compare the accuracy of the F1 score using the weighted average as comparator, the conclusion is rather saddening in this sense that our ML models we have being using or tossing a coin in order to predict the right outcome is of the same order being 50%.\n",
    "\n",
    "Before looking to adapt our ML models , I am personally convinced that we are missing vital data in the DataFrame I am using.\n",
    "\n",
    "Starting with our target value being binary 'injury' or 'prop damage' , there were initally a more elaborateed set of attributes used.\n",
    "\n",
    "But more vital information is missing for instance wethether we are dealing with an accident with  pedesterians , bicycles, motorbike, cars.\n",
    "\n",
    "Also the outcome of an accident such as fatal or not could facilitate the qualification of a accident.\n",
    "\n",
    "A final comment, I am not in a postion to be able to determine the causes but our intial size of our DataFrame consist of 194673 attributes and after preparing the dataset for our models the size is reduced to 8651 attributes with other words 96%  of our observations are lost for usage due to missing attributes.\n",
    "\n",
    "The loss of 96% percent of our observations has its toll on the performance of our models, as known the larger your sample population the more accuracy can be expected. \n",
    "\n",
    "So final comment, are these 8651 observations we use for our ML models reprensative enough to make predictions, in the actual state of this project , tossing up coin would be the most economical way to seek an answer to our question about the prediction of the outcome of an accident. \n",
    "\n",
    "Final conclusion:\n",
    "\n",
    "As first step we have to go back to our data in order to be able to add signifiant features which would improve the performance of our models, if this doesn't resolves the predactiblity of our models taking inroads to improve reporting to have more complete dataframes will be a  second step.\n",
    "If these steps wouldn't help out then the next step would  be to evalaute if the information we collect really adequate is and if so then how effective our reporting is in function of our prediction models."
   ]
  }
 ],
 "metadata": {
  "kernelspec": {
   "display_name": "Python 3",
   "language": "python",
   "name": "python3"
  },
  "language_info": {
   "codemirror_mode": {
    "name": "ipython",
    "version": 3
   },
   "file_extension": ".py",
   "mimetype": "text/x-python",
   "name": "python",
   "nbconvert_exporter": "python",
   "pygments_lexer": "ipython3",
   "version": "3.8.3"
  }
 },
 "nbformat": 4,
 "nbformat_minor": 4
}
